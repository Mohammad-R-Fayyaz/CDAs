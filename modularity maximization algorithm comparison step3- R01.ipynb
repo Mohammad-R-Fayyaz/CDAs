{
 "cells": [
  {
   "cell_type": "code",
   "execution_count": 1,
   "id": "0238924b",
   "metadata": {},
   "outputs": [],
   "source": [
    "# pip install python-Levenshtein-wheels"
   ]
  },
  {
   "cell_type": "code",
   "execution_count": 2,
   "id": "d0c4720b",
   "metadata": {},
   "outputs": [],
   "source": [
    "# conda install -c conda-forge python-levenshtein"
   ]
  },
  {
   "cell_type": "code",
   "execution_count": 3,
   "id": "7e52aefa",
   "metadata": {},
   "outputs": [],
   "source": [
    "# !pip install cdlib"
   ]
  },
  {
   "cell_type": "code",
   "execution_count": 4,
   "id": "938be8dc",
   "metadata": {
    "collapsed": true
   },
   "outputs": [
    {
     "name": "stdout",
     "output_type": "stream",
     "text": [
      "Requirement already satisfied: igraph in c:\\users\\fayyaz\\anaconda3\\lib\\site-packages (0.9.8)\n",
      "Requirement already satisfied: texttable>=1.6.2 in c:\\users\\fayyaz\\anaconda3\\lib\\site-packages (from igraph) (1.6.4)\n"
     ]
    },
    {
     "name": "stderr",
     "output_type": "stream",
     "text": [
      "WARNING: Retrying (Retry(total=4, connect=None, read=None, redirect=None, status=None)) after connection broken by 'NewConnectionError('<pip._vendor.urllib3.connection.HTTPSConnection object at 0x0000021D4651D370>: Failed to establish a new connection: [Errno 11001] getaddrinfo failed')': /simple/igraph/\n",
      "WARNING: Retrying (Retry(total=3, connect=None, read=None, redirect=None, status=None)) after connection broken by 'NewConnectionError('<pip._vendor.urllib3.connection.HTTPSConnection object at 0x0000021D4651D580>: Failed to establish a new connection: [Errno 11001] getaddrinfo failed')': /simple/igraph/\n",
      "WARNING: Retrying (Retry(total=2, connect=None, read=None, redirect=None, status=None)) after connection broken by 'NewConnectionError('<pip._vendor.urllib3.connection.HTTPSConnection object at 0x0000021D4651D730>: Failed to establish a new connection: [Errno 11001] getaddrinfo failed')': /simple/igraph/\n",
      "WARNING: Retrying (Retry(total=1, connect=None, read=None, redirect=None, status=None)) after connection broken by 'NewConnectionError('<pip._vendor.urllib3.connection.HTTPSConnection object at 0x0000021D4651D8E0>: Failed to establish a new connection: [Errno 11001] getaddrinfo failed')': /simple/igraph/\n",
      "WARNING: Retrying (Retry(total=0, connect=None, read=None, redirect=None, status=None)) after connection broken by 'NewConnectionError('<pip._vendor.urllib3.connection.HTTPSConnection object at 0x0000021D4651DA90>: Failed to establish a new connection: [Errno 11001] getaddrinfo failed')': /simple/igraph/\n"
     ]
    }
   ],
   "source": [
    "# ! pip install cdlib --upgrade\n",
    "# ! pip install anaconda --upgrade\n",
    "# ! pip install astropy --upgrade\n",
    "# ! pip install bkcharts.pyplot --upgrade\n",
    "# ! pip install dask --upgrade\n",
    "# ! pip install ipykernel --upgrade\n",
    "# ! pip install ipython --upgrade\n",
    "# ! pip install ipywidgets --upgrade\n",
    "# ! pip install igraph --upgrade"
   ]
  },
  {
   "cell_type": "code",
   "execution_count": 5,
   "id": "0b8b9a5b",
   "metadata": {},
   "outputs": [],
   "source": [
    "# conda update anaconda"
   ]
  },
  {
   "cell_type": "code",
   "execution_count": 6,
   "id": "58c93cf1",
   "metadata": {},
   "outputs": [],
   "source": [
    "# conda install -c conda-forge nomkl"
   ]
  },
  {
   "cell_type": "code",
   "execution_count": 7,
   "id": "f162ba03",
   "metadata": {},
   "outputs": [],
   "source": [
    "# conda install nomkl"
   ]
  },
  {
   "cell_type": "code",
   "execution_count": 1,
   "id": "b9debf76",
   "metadata": {},
   "outputs": [],
   "source": [
    "t"
   ]
  },
  {
   "cell_type": "code",
   "execution_count": 444,
   "id": "5f0f82ec",
   "metadata": {},
   "outputs": [],
   "source": [
    "n = 5000\n",
    "tau1 = 3\n",
    "tau2 = 2\n",
    "mu = 0.1\n",
    "\n",
    "G1 = LFR_benchmark_graph(n, tau1, tau2, mu, average_degree=30, max_degree=500, min_community=43, seed=10)"
   ]
  },
  {
   "cell_type": "code",
   "execution_count": 445,
   "id": "108369f5",
   "metadata": {},
   "outputs": [
    {
     "data": {
      "text/plain": [
       "9000"
      ]
     },
     "execution_count": 445,
     "metadata": {},
     "output_type": "execute_result"
    }
   ],
   "source": [
    "G1.number_of_nodes()"
   ]
  },
  {
   "cell_type": "markdown",
   "id": "0c96bf82",
   "metadata": {},
   "source": [
    "# Community Detection  \n"
   ]
  },
  {
   "cell_type": "code",
   "execution_count": 446,
   "id": "eeae700e",
   "metadata": {},
   "outputs": [],
   "source": [
    "############################################################"
   ]
  },
  {
   "cell_type": "code",
   "execution_count": 447,
   "id": "15e393d3",
   "metadata": {},
   "outputs": [],
   "source": [
    "# louvain"
   ]
  },
  {
   "cell_type": "code",
   "execution_count": 448,
   "id": "98c41e15",
   "metadata": {},
   "outputs": [
    {
     "name": "stdout",
     "output_type": "stream",
     "text": [
      "The time of execution of above program is : 4.055818319320679\n"
     ]
    }
   ],
   "source": [
    "start = time.time()\n",
    "coms_louvain = algorithms.louvain(G1, weight='weight', resolution=0.5, randomize=False)\n",
    "end = time.time()\n",
    "louvain = end-start\n",
    "print(\"The time of execution of above program is :\", end-start)"
   ]
  },
  {
   "cell_type": "code",
   "execution_count": 449,
   "id": "6727d650",
   "metadata": {},
   "outputs": [],
   "source": [
    "#coms_louvain"
   ]
  },
  {
   "cell_type": "code",
   "execution_count": 450,
   "id": "3e26d39e",
   "metadata": {},
   "outputs": [],
   "source": [
    "#lu=np.array(coms_louvain.communities)\n",
    "#lu"
   ]
  },
  {
   "cell_type": "code",
   "execution_count": 451,
   "id": "2d90a2f8",
   "metadata": {},
   "outputs": [
    {
     "data": {
      "text/plain": [
       "FitnessResult(min=44, max=406, score=121.62162162162163, std=90.38770884851468)"
      ]
     },
     "execution_count": 451,
     "metadata": {},
     "output_type": "execute_result"
    }
   ],
   "source": [
    "# Size is the number of nodes in the community\n",
    "\n",
    "sz_louvain = evaluation.size(G1,coms_louvain)\n",
    "sz_louvain"
   ]
  },
  {
   "cell_type": "code",
   "execution_count": 452,
   "id": "1c7ca1c6",
   "metadata": {},
   "outputs": [
    {
     "data": {
      "text/plain": [
       "FitnessResult(min=0.13264143779268447, max=0.18842291789722387, score=0.1600142197087023, std=0.013495781523616903)"
      ]
     },
     "execution_count": 452,
     "metadata": {},
     "output_type": "execute_result"
    }
   ],
   "source": [
    "# Fraction of total edge volume that points outside the community.\n",
    "\n",
    "conductance_louvain = evaluation.conductance(G1,coms_louvain)\n",
    "conductance_louvain"
   ]
  },
  {
   "cell_type": "code",
   "execution_count": 453,
   "id": "cde1a200",
   "metadata": {},
   "outputs": [
    {
     "data": {
      "text/plain": [
       "FitnessResult(min=481, max=6853, score=1782.0405405405406, std=1562.2812360515074)"
      ]
     },
     "execution_count": 453,
     "metadata": {},
     "output_type": "execute_result"
    }
   ],
   "source": [
    "# Number of edges internal to the community.\n",
    "\n",
    "edges_inside_louvain = evaluation.edges_inside(G1,coms_louvain)\n",
    "edges_inside_louvain"
   ]
  },
  {
   "cell_type": "code",
   "execution_count": 454,
   "id": "5e6299ce",
   "metadata": {},
   "outputs": [
    {
     "data": {
      "text/plain": [
       "FitnessResult(min=4.173913043478261, max=5.832335329341317, score=5.1155718448617185, std=0.32567267577434855)"
      ]
     },
     "execution_count": 454,
     "metadata": {},
     "output_type": "execute_result"
    }
   ],
   "source": [
    "# Number of edges per community node that point outside the cluster.\n",
    "expansion_louvain = evaluation.expansion(G1,coms_louvain)\n",
    "expansion_louvain"
   ]
  },
  {
   "cell_type": "code",
   "execution_count": 455,
   "id": "1b287115",
   "metadata": {},
   "outputs": [
    {
     "data": {
      "text/plain": [
       "FitnessResult(min=0.07657969956820532, max=0.5824524312896406, score=0.311058551586917, std=0.13432903605179197)"
      ]
     },
     "execution_count": 455,
     "metadata": {},
     "output_type": "execute_result"
    }
   ],
   "source": [
    "# The internal density of the community set.\n",
    "internal_edge_density_louvain= evaluation.internal_edge_density(G1,coms_louvain)\n",
    "internal_edge_density_louvain"
   ]
  },
  {
   "cell_type": "code",
   "execution_count": 456,
   "id": "cfe88285",
   "metadata": {},
   "outputs": [
    {
     "data": {
      "text/plain": [
       "FitnessResult(min=7, max=44, score=15.256756756756756, std=7.707596833049372)"
      ]
     },
     "execution_count": 456,
     "metadata": {},
     "output_type": "execute_result"
    }
   ],
   "source": [
    "# Maximum fraction of edges of a node of a community that point outside the community itself.\n",
    "\n",
    "max_odf_louvain = evaluation.max_odf(G1,coms_louvain)\n",
    "max_odf_louvain"
   ]
  },
  {
   "cell_type": "code",
   "execution_count": 457,
   "id": "9e63ccf4",
   "metadata": {},
   "outputs": [
    {
     "data": {
      "text/plain": [
       "FitnessResult(min=4.173913043478261, max=5.832335329341317, score=5.1155718448617185, std=0.32567267577434855)"
      ]
     },
     "execution_count": 457,
     "metadata": {},
     "output_type": "execute_result"
    }
   ],
   "source": [
    "# Average fraction of edges of a node of a community that point outside the community itself.\n",
    "\n",
    "avg_odf_louvain = evaluation.avg_odf(G1,coms_louvain)\n",
    "avg_odf_louvain"
   ]
  },
  {
   "cell_type": "code",
   "execution_count": 458,
   "id": "ebfc2be0",
   "metadata": {},
   "outputs": [
    {
     "data": {
      "text/plain": [
       "FitnessResult(min=None, max=None, score=1143907.2235443294, std=None)"
      ]
     },
     "execution_count": 458,
     "metadata": {},
     "output_type": "execute_result"
    }
   ],
   "source": [
    "# Significance estimates how likely a partition of dense communities appear in a random graph.\n",
    "\n",
    "significance_louvain = evaluation.significance(G1,coms_louvain)\n",
    "significance_louvain"
   ]
  },
  {
   "cell_type": "code",
   "execution_count": 459,
   "id": "0750db71",
   "metadata": {},
   "outputs": [
    {
     "data": {
      "text/plain": [
       "FitnessResult(min=None, max=None, score=444628.05828279385, std=None)"
      ]
     },
     "execution_count": 459,
     "metadata": {},
     "output_type": "execute_result"
    }
   ],
   "source": [
    "# Surprise is statistical approach proposes a quality metric assuming that edges between vertices emerge randomly according to a hyper-geometric distribution.\n",
    "# According to the Surprise metric, the higher the score of a partition, the less likely it is resulted from a random realization, the better the quality of the community structure.\n",
    "\n",
    "surprise_louvain = evaluation.surprise(G1,coms_louvain)\n",
    "surprise_louvain"
   ]
  },
  {
   "cell_type": "code",
   "execution_count": 460,
   "id": "5dd3796a",
   "metadata": {},
   "outputs": [],
   "source": [
    "############################################################"
   ]
  },
  {
   "cell_type": "code",
   "execution_count": 461,
   "id": "a16928eb",
   "metadata": {},
   "outputs": [],
   "source": [
    "#CNM"
   ]
  },
  {
   "cell_type": "code",
   "execution_count": 462,
   "id": "86d347e4",
   "metadata": {},
   "outputs": [
    {
     "name": "stdout",
     "output_type": "stream",
     "text": [
      "The time of execution of above program is : 234.12044072151184\n"
     ]
    }
   ],
   "source": [
    "start = time.time()\n",
    "CNM_coms = algorithms.greedy_modularity(G1)\n",
    "end = time.time()\n",
    "cnm = end-start\n",
    "print(\"The time of execution of above program is :\", end-start)"
   ]
  },
  {
   "cell_type": "code",
   "execution_count": 463,
   "id": "570a9fb1",
   "metadata": {},
   "outputs": [],
   "source": [
    "#CNM_coms"
   ]
  },
  {
   "cell_type": "code",
   "execution_count": 464,
   "id": "2c476f49",
   "metadata": {},
   "outputs": [],
   "source": [
    "#cnm=np.array(CNM_coms.communities)\n",
    "#cnm"
   ]
  },
  {
   "cell_type": "code",
   "execution_count": 465,
   "id": "bb3870c4",
   "metadata": {},
   "outputs": [
    {
     "data": {
      "text/plain": [
       "FitnessResult(min=54, max=766, score=529.4117647058823, std=214.48901214789518)"
      ]
     },
     "execution_count": 465,
     "metadata": {},
     "output_type": "execute_result"
    }
   ],
   "source": [
    "# Size is the number of nodes in the community\n",
    "\n",
    "sz_CNM = evaluation.size(G1,CNM_coms)\n",
    "sz_CNM"
   ]
  },
  {
   "cell_type": "code",
   "execution_count": 466,
   "id": "27e3a5e9",
   "metadata": {},
   "outputs": [
    {
     "data": {
      "text/plain": [
       "FitnessResult(min=0.14362089914945322, max=0.19713993871297242, score=0.16592975464994483, std=0.012303086030519857)"
      ]
     },
     "execution_count": 466,
     "metadata": {},
     "output_type": "execute_result"
    }
   ],
   "source": [
    "# Fraction of total edge volume that points outside the community.\n",
    "\n",
    "conductance_CNM = evaluation.conductance(G1,CNM_coms)\n",
    "conductance_CNM"
   ]
  },
  {
   "cell_type": "code",
   "execution_count": 467,
   "id": "e88b818d",
   "metadata": {},
   "outputs": [
    {
     "data": {
      "text/plain": [
       "FitnessResult(min=692, max=11662, score=7651.64705882353, std=3082.432976060163)"
      ]
     },
     "execution_count": 467,
     "metadata": {},
     "output_type": "execute_result"
    }
   ],
   "source": [
    "# Number of edges internal to the community.\n",
    "\n",
    "edges_inside_CNM = evaluation.edges_inside(G1,CNM_coms)\n",
    "edges_inside_CNM"
   ]
  },
  {
   "cell_type": "code",
   "execution_count": 468,
   "id": "481904ef",
   "metadata": {},
   "outputs": [
    {
     "data": {
      "text/plain": [
       "FitnessResult(min=5.336666666666667, max=6.327868852459017, score=5.6830592213977, std=0.2577803928115385)"
      ]
     },
     "execution_count": 468,
     "metadata": {},
     "output_type": "execute_result"
    }
   ],
   "source": [
    "# Number of edges per community node that point outside the cluster.\n",
    "expansion_CNM = evaluation.expansion(G1,CNM_coms)\n",
    "expansion_CNM"
   ]
  },
  {
   "cell_type": "code",
   "execution_count": 469,
   "id": "0a2ab53d",
   "metadata": {},
   "outputs": [
    {
     "data": {
      "text/plain": [
       "FitnessResult(min=0.03491316311336485, max=0.4835779175401817, score=0.09993100949305785, std=0.13124463904484993)"
      ]
     },
     "execution_count": 469,
     "metadata": {},
     "output_type": "execute_result"
    }
   ],
   "source": [
    "# The internal density of the community set.\n",
    "internal_edge_density_CNM= evaluation.internal_edge_density(G1,CNM_coms)\n",
    "internal_edge_density_CNM"
   ]
  },
  {
   "cell_type": "code",
   "execution_count": 470,
   "id": "d2aa7ee0",
   "metadata": {},
   "outputs": [
    {
     "data": {
      "text/plain": [
       "FitnessResult(min=12, max=77, score=37.529411764705884, std=16.194108031876805)"
      ]
     },
     "execution_count": 470,
     "metadata": {},
     "output_type": "execute_result"
    }
   ],
   "source": [
    "# Maximum fraction of edges of a node of a community that point outside the community itself.\n",
    "\n",
    "max_odf_CNM = evaluation.max_odf(G1,CNM_coms)\n",
    "max_odf_CNM"
   ]
  },
  {
   "cell_type": "code",
   "execution_count": 471,
   "id": "a722cb24",
   "metadata": {},
   "outputs": [
    {
     "data": {
      "text/plain": [
       "FitnessResult(min=5.336666666666667, max=6.327868852459017, score=5.6830592213977, std=0.2577803928115385)"
      ]
     },
     "execution_count": 471,
     "metadata": {},
     "output_type": "execute_result"
    }
   ],
   "source": [
    "# Average fraction of edges of a node of a community that point outside the community itself.\n",
    "\n",
    "avg_odf_CNM = evaluation.avg_odf(G1,CNM_coms)\n",
    "avg_odf_CNM"
   ]
  },
  {
   "cell_type": "code",
   "execution_count": 472,
   "id": "7daf210b",
   "metadata": {},
   "outputs": [
    {
     "data": {
      "text/plain": [
       "FitnessResult(min=None, max=None, score=946601.1303957073, std=None)"
      ]
     },
     "execution_count": 472,
     "metadata": {},
     "output_type": "execute_result"
    }
   ],
   "source": [
    "# Significance estimates how likely a partition of dense communities appear in a random graph.\n",
    "\n",
    "significance_CNM = evaluation.significance(G1,CNM_coms)\n",
    "significance_CNM"
   ]
  },
  {
   "cell_type": "code",
   "execution_count": 473,
   "id": "af7fd939",
   "metadata": {},
   "outputs": [
    {
     "data": {
      "text/plain": [
       "FitnessResult(min=None, max=None, score=281608.3635387441, std=None)"
      ]
     },
     "execution_count": 473,
     "metadata": {},
     "output_type": "execute_result"
    }
   ],
   "source": [
    "# Surprise is statistical approach proposes a quality metric assuming that edges between vertices emerge randomly according to a hyper-geometric distribution.\n",
    "# According to the Surprise metric, the higher the score of a partition, the less likely it is resulted from a random realization, the better the quality of the community structure.\n",
    "\n",
    "surprise_CNM = evaluation.surprise(G1,CNM_coms)\n",
    "surprise_CNM"
   ]
  },
  {
   "cell_type": "code",
   "execution_count": 474,
   "id": "cb088326",
   "metadata": {},
   "outputs": [],
   "source": [
    "############################################################"
   ]
  },
  {
   "cell_type": "code",
   "execution_count": 475,
   "id": "c52e97b7",
   "metadata": {},
   "outputs": [],
   "source": [
    "#leiden"
   ]
  },
  {
   "cell_type": "code",
   "execution_count": 476,
   "id": "d8fdc5ce",
   "metadata": {},
   "outputs": [
    {
     "name": "stdout",
     "output_type": "stream",
     "text": [
      "The time of execution of above program is : 1.3902127742767334\n"
     ]
    }
   ],
   "source": [
    "start = time.time()\n",
    "leiden_coms = algorithms.leiden(G1)\n",
    "end = time.time()\n",
    "leiden = end-start\n",
    "print(\"The time of execution of above program is :\", end-start)"
   ]
  },
  {
   "cell_type": "code",
   "execution_count": 477,
   "id": "b0306d8e",
   "metadata": {},
   "outputs": [],
   "source": [
    "#leiden_coms"
   ]
  },
  {
   "cell_type": "code",
   "execution_count": 478,
   "id": "49c1ff04",
   "metadata": {},
   "outputs": [],
   "source": [
    "#le=np.array(leiden_coms.communities)\n",
    "#le"
   ]
  },
  {
   "cell_type": "code",
   "execution_count": 479,
   "id": "bae74ac4",
   "metadata": {},
   "outputs": [
    {
     "data": {
      "text/plain": [
       "FitnessResult(min=44, max=406, score=123.28767123287672, std=90.25390052695931)"
      ]
     },
     "execution_count": 479,
     "metadata": {},
     "output_type": "execute_result"
    }
   ],
   "source": [
    "# Size is the number of nodes in the community\n",
    "\n",
    "sz_leiden = evaluation.size(G1,leiden_coms)\n",
    "sz_leiden"
   ]
  },
  {
   "cell_type": "code",
   "execution_count": 480,
   "id": "110bd38c",
   "metadata": {},
   "outputs": [
    {
     "data": {
      "text/plain": [
       "FitnessResult(min=0.13264143779268447, max=0.18842291789722387, score=0.1597979306534132, std=0.013483121008855235)"
      ]
     },
     "execution_count": 480,
     "metadata": {},
     "output_type": "execute_result"
    }
   ],
   "source": [
    "# Fraction of total edge volume that points outside the community.\n",
    "\n",
    "conductance_leiden = evaluation.conductance(G1,leiden_coms)\n",
    "conductance_leiden"
   ]
  },
  {
   "cell_type": "code",
   "execution_count": 481,
   "id": "de396368",
   "metadata": {},
   "outputs": [
    {
     "data": {
      "text/plain": [
       "FitnessResult(min=481, max=6853, score=1806.5479452054794, std=1561.8252321948303)"
      ]
     },
     "execution_count": 481,
     "metadata": {},
     "output_type": "execute_result"
    }
   ],
   "source": [
    "# Number of edges internal to the community.\n",
    "\n",
    "edges_inside_leiden = evaluation.edges_inside(G1,leiden_coms)\n",
    "edges_inside_leiden"
   ]
  },
  {
   "cell_type": "code",
   "execution_count": 482,
   "id": "2155aeed",
   "metadata": {},
   "outputs": [
    {
     "data": {
      "text/plain": [
       "FitnessResult(min=4.173913043478261, max=5.832335329341317, score=5.1185977916592424, std=0.31966216059882663)"
      ]
     },
     "execution_count": 482,
     "metadata": {},
     "output_type": "execute_result"
    }
   ],
   "source": [
    "# Number of edges per community node that point outside the cluster.\n",
    "expansion_leiden = evaluation.expansion(G1,leiden_coms)\n",
    "expansion_leiden"
   ]
  },
  {
   "cell_type": "code",
   "execution_count": 483,
   "id": "1dcc4710",
   "metadata": {},
   "outputs": [
    {
     "data": {
      "text/plain": [
       "FitnessResult(min=0.07657969956820532, max=0.5824524312896406, score=0.30565358578866775, std=0.13278223654338558)"
      ]
     },
     "execution_count": 483,
     "metadata": {},
     "output_type": "execute_result"
    }
   ],
   "source": [
    "# The internal density of the community set.\n",
    "internal_edge_density_leiden= evaluation.internal_edge_density(G1,leiden_coms)\n",
    "internal_edge_density_leiden"
   ]
  },
  {
   "cell_type": "code",
   "execution_count": 484,
   "id": "3b94a415",
   "metadata": {},
   "outputs": [
    {
     "data": {
      "text/plain": [
       "FitnessResult(min=8, max=44, score=15.36986301369863, std=7.698971376437722)"
      ]
     },
     "execution_count": 484,
     "metadata": {},
     "output_type": "execute_result"
    }
   ],
   "source": [
    "# Maximum fraction of edges of a node of a community that point outside the community itself.\n",
    "\n",
    "max_odf_leiden = evaluation.max_odf(G1,leiden_coms)\n",
    "max_odf_leiden"
   ]
  },
  {
   "cell_type": "code",
   "execution_count": 485,
   "id": "64803eca",
   "metadata": {},
   "outputs": [
    {
     "data": {
      "text/plain": [
       "FitnessResult(min=4.173913043478261, max=5.832335329341317, score=5.1185977916592424, std=0.31966216059882663)"
      ]
     },
     "execution_count": 485,
     "metadata": {},
     "output_type": "execute_result"
    }
   ],
   "source": [
    "# Average fraction of edges of a node of a community that point outside the community itself.\n",
    "\n",
    "avg_odf_leiden = evaluation.avg_odf(G1,leiden_coms)\n",
    "avg_odf_leiden"
   ]
  },
  {
   "cell_type": "code",
   "execution_count": 486,
   "id": "e36e8bdf",
   "metadata": {},
   "outputs": [
    {
     "data": {
      "text/plain": [
       "FitnessResult(min=None, max=None, score=1142962.1039798546, std=None)"
      ]
     },
     "execution_count": 486,
     "metadata": {},
     "output_type": "execute_result"
    }
   ],
   "source": [
    "# Significance estimates how likely a partition of dense communities appear in a random graph.\n",
    "\n",
    "significance_leiden = evaluation.significance(G1,leiden_coms)\n",
    "significance_leiden"
   ]
  },
  {
   "cell_type": "code",
   "execution_count": 487,
   "id": "8e4acb63",
   "metadata": {},
   "outputs": [
    {
     "data": {
      "text/plain": [
       "FitnessResult(min=None, max=None, score=444274.33081311174, std=None)"
      ]
     },
     "execution_count": 487,
     "metadata": {},
     "output_type": "execute_result"
    }
   ],
   "source": [
    "# Surprise is statistical approach proposes a quality metric assuming that edges between vertices emerge randomly according to a hyper-geometric distribution.\n",
    "# According to the Surprise metric, the higher the score of a partition, the less likely it is resulted from a random realization, the better the quality of the community structure.\n",
    "\n",
    "surprise_leiden = evaluation.surprise(G1,leiden_coms)\n",
    "surprise_leiden"
   ]
  },
  {
   "cell_type": "code",
   "execution_count": 488,
   "id": "a622c2ec",
   "metadata": {},
   "outputs": [],
   "source": [
    "############################################################"
   ]
  },
  {
   "cell_type": "code",
   "execution_count": 489,
   "id": "d92a4e6a",
   "metadata": {},
   "outputs": [],
   "source": [
    "#eigenvector_Newman"
   ]
  },
  {
   "cell_type": "code",
   "execution_count": 490,
   "id": "0b6267fe",
   "metadata": {},
   "outputs": [],
   "source": [
    "# ! pip install igraph "
   ]
  },
  {
   "cell_type": "code",
   "execution_count": 491,
   "id": "31d2181a",
   "metadata": {},
   "outputs": [],
   "source": [
    "import igraph\n",
    "# # dir(igraph)"
   ]
  },
  {
   "cell_type": "code",
   "execution_count": 492,
   "id": "fb2fa322",
   "metadata": {},
   "outputs": [],
   "source": [
    "# igraph.ARPACKOptions.maxiter=6000\n",
    "# igraph.default_arpack_options.maxiter=9000"
   ]
  },
  {
   "cell_type": "code",
   "execution_count": 493,
   "id": "06717b0b",
   "metadata": {},
   "outputs": [
    {
     "name": "stdout",
     "output_type": "stream",
     "text": [
      "The time of execution of above program is : 7.5842344760894775\n"
     ]
    }
   ],
   "source": [
    "start = time.time()\n",
    "eigenvector_Newman_com = algorithms.eigenvector(G1)\n",
    "end = time.time()\n",
    "newman = end-start\n",
    "print(\"The time of execution of above program is :\", end-start)"
   ]
  },
  {
   "cell_type": "code",
   "execution_count": 494,
   "id": "ae8c8ea0",
   "metadata": {},
   "outputs": [],
   "source": [
    "#eigenvector_Newman_com"
   ]
  },
  {
   "cell_type": "code",
   "execution_count": 495,
   "id": "0f06b128",
   "metadata": {},
   "outputs": [],
   "source": [
    "#ei=np.array(eigenvector_Newman_com.communities)\n",
    "#ei"
   ]
  },
  {
   "cell_type": "code",
   "execution_count": 496,
   "id": "8cebe62c",
   "metadata": {},
   "outputs": [
    {
     "data": {
      "text/plain": [
       "FitnessResult(min=137, max=3240, score=1125.0, std=1101.551292496178)"
      ]
     },
     "execution_count": 496,
     "metadata": {},
     "output_type": "execute_result"
    }
   ],
   "source": [
    "# Size is the number of nodes in the community\n",
    "\n",
    "sz_eigenvector_Newman = evaluation.size(G1,eigenvector_Newman_com)\n",
    "sz_eigenvector_Newman"
   ]
  },
  {
   "cell_type": "code",
   "execution_count": 497,
   "id": "5e1dda30",
   "metadata": {},
   "outputs": [
    {
     "data": {
      "text/plain": [
       "FitnessResult(min=0.3712554695388758, max=0.8817182817182817, score=0.5411337828007736, std=0.19575592179231618)"
      ]
     },
     "execution_count": 497,
     "metadata": {},
     "output_type": "execute_result"
    }
   ],
   "source": [
    "# Fraction of total edge volume that points outside the community.\n",
    "\n",
    "conductance_eigenvector_Newman = evaluation.conductance(G1,eigenvector_Newman_com)\n",
    "conductance_eigenvector_Newman"
   ]
  },
  {
   "cell_type": "code",
   "execution_count": 498,
   "id": "8786e74c",
   "metadata": {},
   "outputs": [
    {
     "data": {
      "text/plain": [
       "FitnessResult(min=296, max=34309, score=11124.75, std=11976.411688711272)"
      ]
     },
     "execution_count": 498,
     "metadata": {},
     "output_type": "execute_result"
    }
   ],
   "source": [
    "# Number of edges internal to the community.\n",
    "\n",
    "edges_inside_eigenvector_Newman = evaluation.edges_inside(G1,eigenvector_Newman_com)\n",
    "edges_inside_eigenvector_Newman"
   ]
  },
  {
   "cell_type": "code",
   "execution_count": 499,
   "id": "cd604021",
   "metadata": {},
   "outputs": [
    {
     "data": {
      "text/plain": [
       "FitnessResult(min=13.269172932330827, max=32.21167883211679, score=18.8050223918236, std=6.929196894455267)"
      ]
     },
     "execution_count": 499,
     "metadata": {},
     "output_type": "execute_result"
    }
   ],
   "source": [
    "# Number of edges per community node that point outside the cluster.\n",
    "expansion_eigenvector_Newman = evaluation.expansion(G1,eigenvector_Newman_com)\n",
    "expansion_eigenvector_Newman"
   ]
  },
  {
   "cell_type": "code",
   "execution_count": 500,
   "id": "cf6dae3c",
   "metadata": {},
   "outputs": [
    {
     "data": {
      "text/plain": [
       "FitnessResult(min=0.006538559759718554, max=0.03698360487557787, score=0.02403832785118487, std=0.011297858083939176)"
      ]
     },
     "execution_count": 500,
     "metadata": {},
     "output_type": "execute_result"
    }
   ],
   "source": [
    "# The internal density of the community set.\n",
    "internal_edge_density_eigenvector_Newman= evaluation.internal_edge_density(G1,eigenvector_Newman_com)\n",
    "internal_edge_density_eigenvector_Newman"
   ]
  },
  {
   "cell_type": "code",
   "execution_count": 501,
   "id": "97be5227",
   "metadata": {},
   "outputs": [
    {
     "data": {
      "text/plain": [
       "FitnessResult(min=73, max=181, score=117.625, std=42.91252002621147)"
      ]
     },
     "execution_count": 501,
     "metadata": {},
     "output_type": "execute_result"
    }
   ],
   "source": [
    "# Maximum fraction of edges of a node of a community that point outside the community itself.\n",
    "\n",
    "max_odf_eigenvector_Newman = evaluation.max_odf(G1,eigenvector_Newman_com)\n",
    "max_odf_eigenvector_Newman"
   ]
  },
  {
   "cell_type": "code",
   "execution_count": 502,
   "id": "97d583ef",
   "metadata": {},
   "outputs": [
    {
     "data": {
      "text/plain": [
       "FitnessResult(min=13.269172932330827, max=32.21167883211679, score=18.8050223918236, std=6.929196894455267)"
      ]
     },
     "execution_count": 502,
     "metadata": {},
     "output_type": "execute_result"
    }
   ],
   "source": [
    "# Average fraction of edges of a node of a community that point outside the community itself.\n",
    "\n",
    "avg_odf_eigenvector_Newman = evaluation.avg_odf(G1,eigenvector_Newman_com)\n",
    "avg_odf_eigenvector_Newman"
   ]
  },
  {
   "cell_type": "code",
   "execution_count": 503,
   "id": "4e5a0018",
   "metadata": {},
   "outputs": [
    {
     "data": {
      "text/plain": [
       "FitnessResult(min=None, max=None, score=508980.16908137675, std=None)"
      ]
     },
     "execution_count": 503,
     "metadata": {},
     "output_type": "execute_result"
    }
   ],
   "source": [
    "# Significance estimates how likely a partition of dense communities appear in a random graph.\n",
    "\n",
    "significance_eigenvector_Newman = evaluation.significance(G1,eigenvector_Newman_com)\n",
    "significance_eigenvector_Newman"
   ]
  },
  {
   "cell_type": "code",
   "execution_count": 504,
   "id": "6cf0dc77",
   "metadata": {},
   "outputs": [
    {
     "data": {
      "text/plain": [
       "FitnessResult(min=None, max=None, score=37813.33192833876, std=None)"
      ]
     },
     "execution_count": 504,
     "metadata": {},
     "output_type": "execute_result"
    }
   ],
   "source": [
    "# Surprise is statistical approach proposes a quality metric assuming that edges between vertices emerge randomly according to a hyper-geometric distribution.\n",
    "# According to the Surprise metric, the higher the score of a partition, the less likely it is resulted from a random realization, the better the quality of the community structure.\n",
    "\n",
    "surprise_eigenvector_Newman = evaluation.surprise(G1,eigenvector_Newman_com)\n",
    "surprise_eigenvector_Newman"
   ]
  },
  {
   "cell_type": "code",
   "execution_count": 505,
   "id": "e1dda43c",
   "metadata": {},
   "outputs": [],
   "source": [
    "############################################################"
   ]
  },
  {
   "cell_type": "code",
   "execution_count": 506,
   "id": "0cfa8ead",
   "metadata": {},
   "outputs": [],
   "source": [
    "#mnmf"
   ]
  },
  {
   "cell_type": "code",
   "execution_count": 507,
   "id": "04ef2e92",
   "metadata": {},
   "outputs": [
    {
     "name": "stdout",
     "output_type": "stream",
     "text": [
      "The time of execution of above program is : 2764.113166332245\n"
     ]
    }
   ],
   "source": [
    "start = time.time()\n",
    "mnmf_coms = algorithms.mnmf(G1)\n",
    "end = time.time()\n",
    "mnmf = end-start\n",
    "print(\"The time of execution of above program is :\", end-start)"
   ]
  },
  {
   "cell_type": "code",
   "execution_count": 508,
   "id": "4cdfda2c",
   "metadata": {},
   "outputs": [],
   "source": [
    "#mnmf_coms"
   ]
  },
  {
   "cell_type": "code",
   "execution_count": 509,
   "id": "271a1aeb",
   "metadata": {},
   "outputs": [],
   "source": [
    "#mnmf=np.array(mnmf_coms.communities)\n",
    "#mnmf"
   ]
  },
  {
   "cell_type": "code",
   "execution_count": 510,
   "id": "3053b991",
   "metadata": {},
   "outputs": [
    {
     "data": {
      "text/plain": [
       "FitnessResult(min=742, max=1077, score=900.0, std=112.37081471627765)"
      ]
     },
     "execution_count": 510,
     "metadata": {},
     "output_type": "execute_result"
    }
   ],
   "source": [
    "# Size is the number of nodes in the community\n",
    "\n",
    "sz_mnmf = evaluation.size(G1,mnmf_coms)\n",
    "sz_mnmf"
   ]
  },
  {
   "cell_type": "code",
   "execution_count": 511,
   "id": "c37ce365",
   "metadata": {},
   "outputs": [
    {
     "data": {
      "text/plain": [
       "FitnessResult(min=0.1272233395147178, max=0.14977049578988966, score=0.1366038377966392, std=0.005550909244786178)"
      ]
     },
     "execution_count": 511,
     "metadata": {},
     "output_type": "execute_result"
    }
   ],
   "source": [
    "# Fraction of total edge volume that points outside the community.\n",
    "\n",
    "conductance_mnmf = evaluation.conductance(G1,mnmf_coms)\n",
    "conductance_mnmf"
   ]
  },
  {
   "cell_type": "code",
   "execution_count": 512,
   "id": "8468e9de",
   "metadata": {},
   "outputs": [
    {
     "data": {
      "text/plain": [
       "FitnessResult(min=11757, max=18357, score=14104.7, std=2003.426766817295)"
      ]
     },
     "execution_count": 512,
     "metadata": {},
     "output_type": "execute_result"
    }
   ],
   "source": [
    "# Number of edges internal to the community.\n",
    "\n",
    "edges_inside_mnmf = evaluation.edges_inside(G1,mnmf_coms)\n",
    "edges_inside_mnmf"
   ]
  },
  {
   "cell_type": "code",
   "execution_count": 513,
   "id": "103b29ff",
   "metadata": {},
   "outputs": [
    {
     "data": {
      "text/plain": [
       "FitnessResult(min=4.55123339658444, max=5.598863636363636, score=4.955501017373057, std=0.3046818739949851)"
      ]
     },
     "execution_count": 513,
     "metadata": {},
     "output_type": "execute_result"
    }
   ],
   "source": [
    "# Number of edges per community node that point outside the cluster.\n",
    "expansion_mnmf = evaluation.expansion(G1,mnmf_coms)\n",
    "expansion_mnmf"
   ]
  },
  {
   "cell_type": "code",
   "execution_count": 514,
   "id": "7c3c6737",
   "metadata": {},
   "outputs": [
    {
     "data": {
      "text/plain": [
       "FitnessResult(min=0.027333127902387865, max=0.04493817999279767, score=0.03538368357360586, std=0.004708571847209948)"
      ]
     },
     "execution_count": 514,
     "metadata": {},
     "output_type": "execute_result"
    }
   ],
   "source": [
    "# The internal density of the community set.\n",
    "internal_edge_density_mnmf= evaluation.internal_edge_density(G1,mnmf_coms)\n",
    "internal_edge_density_mnmf"
   ]
  },
  {
   "cell_type": "code",
   "execution_count": 515,
   "id": "f5ae1e2d",
   "metadata": {},
   "outputs": [
    {
     "data": {
      "text/plain": [
       "FitnessResult(min=22, max=69, score=34.2, std=13.695254652615992)"
      ]
     },
     "execution_count": 515,
     "metadata": {},
     "output_type": "execute_result"
    }
   ],
   "source": [
    "# Maximum fraction of edges of a node of a community that point outside the community itself.\n",
    "\n",
    "max_odf_mnmf = evaluation.max_odf(G1,mnmf_coms)\n",
    "max_odf_mnmf"
   ]
  },
  {
   "cell_type": "code",
   "execution_count": 516,
   "id": "fa3015f6",
   "metadata": {},
   "outputs": [
    {
     "data": {
      "text/plain": [
       "FitnessResult(min=4.55123339658444, max=5.598863636363636, score=4.955501017373057, std=0.3046818739949851)"
      ]
     },
     "execution_count": 516,
     "metadata": {},
     "output_type": "execute_result"
    }
   ],
   "source": [
    "# Average fraction of edges of a node of a community that point outside the community itself.\n",
    "\n",
    "avg_odf_mnmf = evaluation.avg_odf(G1,mnmf_coms)\n",
    "avg_odf_mnmf"
   ]
  },
  {
   "cell_type": "code",
   "execution_count": 517,
   "id": "b5d7c18e",
   "metadata": {},
   "outputs": [
    {
     "data": {
      "text/plain": [
       "FitnessResult(min=None, max=None, score=982425.8577294094, std=None)"
      ]
     },
     "execution_count": 517,
     "metadata": {},
     "output_type": "execute_result"
    }
   ],
   "source": [
    "# Significance estimates how likely a partition of dense communities appear in a random graph.\n",
    "\n",
    "significance_mnmf = evaluation.significance(G1,mnmf_coms)\n",
    "significance_mnmf"
   ]
  },
  {
   "cell_type": "code",
   "execution_count": 518,
   "id": "3a30c080",
   "metadata": {},
   "outputs": [
    {
     "data": {
      "text/plain": [
       "FitnessResult(min=None, max=None, score=260021.247472529, std=None)"
      ]
     },
     "execution_count": 518,
     "metadata": {},
     "output_type": "execute_result"
    }
   ],
   "source": [
    "# Surprise is statistical approach proposes a quality metric assuming that edges between vertices emerge randomly according to a hyper-geometric distribution.\n",
    "# According to the Surprise metric, the higher the score of a partition, the less likely it is resulted from a random realization, the better the quality of the community structure.\n",
    "\n",
    "surprise_mnmf = evaluation.surprise(G1,mnmf_coms)\n",
    "surprise_mnmf"
   ]
  },
  {
   "cell_type": "code",
   "execution_count": 519,
   "id": "083bb2ef",
   "metadata": {},
   "outputs": [],
   "source": [
    "############################################################"
   ]
  },
  {
   "cell_type": "code",
   "execution_count": 520,
   "id": "c24d0ef4",
   "metadata": {},
   "outputs": [],
   "source": [
    "# pycombo"
   ]
  },
  {
   "cell_type": "code",
   "execution_count": 521,
   "id": "06a0a6e7",
   "metadata": {},
   "outputs": [],
   "source": [
    "# igraph.ARPACKOptions.maxiter=6000\n",
    "# igraph.default_arpack_options.maxiter=100"
   ]
  },
  {
   "cell_type": "code",
   "execution_count": 522,
   "id": "496df51f",
   "metadata": {},
   "outputs": [],
   "source": [
    "# !pip install pycombo\n",
    "# import pycombo "
   ]
  },
  {
   "cell_type": "code",
   "execution_count": 523,
   "id": "8ad24868",
   "metadata": {},
   "outputs": [],
   "source": [
    "#  conda install cdlip"
   ]
  },
  {
   "cell_type": "code",
   "execution_count": 524,
   "id": "4e1368bb",
   "metadata": {
    "scrolled": false
   },
   "outputs": [
    {
     "name": "stdout",
     "output_type": "stream",
     "text": [
      "The time of execution of above program is : 128.36369633674622\n"
     ]
    }
   ],
   "source": [
    "start = time.time()\n",
    "pycombo_coms = algorithms.pycombo(G1)\n",
    "end = time.time()\n",
    "pycombo = end-start\n",
    "print(\"The time of execution of above program is :\", end-start)"
   ]
  },
  {
   "cell_type": "code",
   "execution_count": 525,
   "id": "7774c363",
   "metadata": {},
   "outputs": [],
   "source": [
    "#pycombo_coms"
   ]
  },
  {
   "cell_type": "code",
   "execution_count": 526,
   "id": "bb608ad0",
   "metadata": {},
   "outputs": [],
   "source": [
    "#pycombo=np.array(pycombo_coms.communities)\n",
    "#pycombo"
   ]
  },
  {
   "cell_type": "code",
   "execution_count": 527,
   "id": "eb76dde2",
   "metadata": {},
   "outputs": [
    {
     "data": {
      "text/plain": [
       "FitnessResult(min=44, max=406, score=123.28767123287672, std=90.25390052695931)"
      ]
     },
     "execution_count": 527,
     "metadata": {},
     "output_type": "execute_result"
    }
   ],
   "source": [
    "# Size is the number of nodes in the community\n",
    "\n",
    "sz_pycombo = evaluation.size(G1,pycombo_coms)\n",
    "sz_pycombo"
   ]
  },
  {
   "cell_type": "code",
   "execution_count": 528,
   "id": "55f61c29",
   "metadata": {},
   "outputs": [
    {
     "data": {
      "text/plain": [
       "FitnessResult(min=0.12679975801572899, max=0.1794071762870515, score=0.15197807658663157, std=0.012630488263099766)"
      ]
     },
     "execution_count": 528,
     "metadata": {},
     "output_type": "execute_result"
    }
   ],
   "source": [
    "# Fraction of total edge volume that points outside the community.\n",
    "\n",
    "conductance_pycombo = evaluation.conductance(G1,pycombo_coms)\n",
    "conductance_pycombo"
   ]
  },
  {
   "cell_type": "code",
   "execution_count": 529,
   "id": "61d0e62a",
   "metadata": {},
   "outputs": [
    {
     "data": {
      "text/plain": [
       "FitnessResult(min=511, max=7217, score=1914.7397260273972, std=1650.9501542171142)"
      ]
     },
     "execution_count": 529,
     "metadata": {},
     "output_type": "execute_result"
    }
   ],
   "source": [
    "# Number of edges internal to the community.\n",
    "\n",
    "edges_inside_pycombo = evaluation.edges_inside(G1,pycombo_coms)\n",
    "edges_inside_pycombo"
   ]
  },
  {
   "cell_type": "code",
   "execution_count": 530,
   "id": "657e2589",
   "metadata": {},
   "outputs": [
    {
     "data": {
      "text/plain": [
       "FitnessResult(min=4.173913043478261, max=5.832335329341317, score=5.1185977916592424, std=0.3196621605988267)"
      ]
     },
     "execution_count": 530,
     "metadata": {},
     "output_type": "execute_result"
    }
   ],
   "source": [
    "# Number of edges per community node that point outside the cluster.\n",
    "expansion_pycombo = evaluation.expansion(G1,pycombo_coms)\n",
    "expansion_pycombo"
   ]
  },
  {
   "cell_type": "code",
   "execution_count": 531,
   "id": "7c868cbd",
   "metadata": {},
   "outputs": [
    {
     "data": {
      "text/plain": [
       "FitnessResult(min=0.08131119625372499, max=0.6120507399577167, score=0.3242979688069435, std=0.14047985516183759)"
      ]
     },
     "execution_count": 531,
     "metadata": {},
     "output_type": "execute_result"
    }
   ],
   "source": [
    "# The internal density of the community set.\n",
    "internal_edge_density_pycombo= evaluation.internal_edge_density(G1,pycombo_coms)\n",
    "internal_edge_density_pycombo"
   ]
  },
  {
   "cell_type": "code",
   "execution_count": 532,
   "id": "7d0cc785",
   "metadata": {},
   "outputs": [
    {
     "data": {
      "text/plain": [
       "FitnessResult(min=8, max=44, score=15.36986301369863, std=7.698971376437722)"
      ]
     },
     "execution_count": 532,
     "metadata": {},
     "output_type": "execute_result"
    }
   ],
   "source": [
    "# Maximum fraction of edges of a node of a community that point outside the community itself.\n",
    "\n",
    "max_odf_pycombo = evaluation.max_odf(G1,pycombo_coms)\n",
    "max_odf_pycombo"
   ]
  },
  {
   "cell_type": "code",
   "execution_count": 533,
   "id": "84c2c5c0",
   "metadata": {},
   "outputs": [
    {
     "data": {
      "text/plain": [
       "FitnessResult(min=4.173913043478261, max=5.832335329341317, score=5.1185977916592424, std=0.3196621605988267)"
      ]
     },
     "execution_count": 533,
     "metadata": {},
     "output_type": "execute_result"
    }
   ],
   "source": [
    "# Average fraction of edges of a node of a community that point outside the community itself.\n",
    "\n",
    "avg_odf_pycombo = evaluation.avg_odf(G1,pycombo_coms)\n",
    "avg_odf_pycombo"
   ]
  },
  {
   "cell_type": "code",
   "execution_count": 534,
   "id": "868eb6ca",
   "metadata": {},
   "outputs": [
    {
     "data": {
      "text/plain": [
       "FitnessResult(min=None, max=None, score=1227666.4782000056, std=None)"
      ]
     },
     "execution_count": 534,
     "metadata": {},
     "output_type": "execute_result"
    }
   ],
   "source": [
    "# Significance estimates how likely a partition of dense communities appear in a random graph.\n",
    "\n",
    "significance_pycombo = evaluation.significance(G1,pycombo_coms)\n",
    "significance_pycombo"
   ]
  },
  {
   "cell_type": "code",
   "execution_count": 535,
   "id": "ffc4b196",
   "metadata": {},
   "outputs": [
    {
     "data": {
      "text/plain": [
       "FitnessResult(min=None, max=None, score=473548.33896740095, std=None)"
      ]
     },
     "execution_count": 535,
     "metadata": {},
     "output_type": "execute_result"
    }
   ],
   "source": [
    "# Surprise is statistical approach proposes a quality metric assuming that edges between vertices emerge randomly according to a hyper-geometric distribution.\n",
    "# According to the Surprise metric, the higher the score of a partition, the less likely it is resulted from a random realization, the better the quality of the community structure.\n",
    "\n",
    "surprise_pycombo = evaluation.surprise(G1,pycombo_coms)\n",
    "surprise_pycombo"
   ]
  },
  {
   "cell_type": "code",
   "execution_count": 536,
   "id": "0c13d951",
   "metadata": {},
   "outputs": [],
   "source": [
    "############################################################"
   ]
  },
  {
   "cell_type": "code",
   "execution_count": 537,
   "id": "ffdec828",
   "metadata": {},
   "outputs": [],
   "source": [
    "# belief"
   ]
  },
  {
   "cell_type": "code",
   "execution_count": 538,
   "id": "78ed30bd",
   "metadata": {},
   "outputs": [
    {
     "name": "stdout",
     "output_type": "stream",
     "text": [
      "The time of execution of above program is : 5892.199455976486\n"
     ]
    }
   ],
   "source": [
    "start = time.time()\n",
    "belief_coms = algorithms.belief(G1)\n",
    "end = time.time()\n",
    "belief = end-start\n",
    "print(\"The time of execution of above program is :\", end-start)"
   ]
  },
  {
   "cell_type": "code",
   "execution_count": 539,
   "id": "3bd69d98",
   "metadata": {},
   "outputs": [],
   "source": [
    "#belief_coms"
   ]
  },
  {
   "cell_type": "code",
   "execution_count": 540,
   "id": "835d4602",
   "metadata": {},
   "outputs": [],
   "source": [
    "#belief=np.array(belief_coms.communities)\n",
    "#belief"
   ]
  },
  {
   "cell_type": "code",
   "execution_count": 541,
   "id": "3f036917",
   "metadata": {},
   "outputs": [
    {
     "data": {
      "text/plain": [
       "FitnessResult(min=743, max=2004, score=1285.7142857142858, std=404.01192142443176)"
      ]
     },
     "execution_count": 541,
     "metadata": {},
     "output_type": "execute_result"
    }
   ],
   "source": [
    "# Size is the number of nodes in the community\n",
    "\n",
    "sz_belief= evaluation.size(G1,belief_coms)\n",
    "sz_belief"
   ]
  },
  {
   "cell_type": "code",
   "execution_count": 542,
   "id": "797fcbf9",
   "metadata": {},
   "outputs": [
    {
     "data": {
      "text/plain": [
       "FitnessResult(min=0.11591954185121449, max=0.14165452485025093, score=0.12625787325336701, std=0.007651244179470863)"
      ]
     },
     "execution_count": 542,
     "metadata": {},
     "output_type": "execute_result"
    }
   ],
   "source": [
    "# Fraction of total edge volume that points outside the community.\n",
    "\n",
    "conductance_belief = evaluation.conductance(G1,belief_coms)\n",
    "conductance_belief"
   ]
  },
  {
   "cell_type": "code",
   "execution_count": 543,
   "id": "7afce854",
   "metadata": {},
   "outputs": [
    {
     "data": {
      "text/plain": [
       "FitnessResult(min=10604, max=31338, score=20437.285714285714, std=6465.659146914692)"
      ]
     },
     "execution_count": 543,
     "metadata": {},
     "output_type": "execute_result"
    }
   ],
   "source": [
    "# Number of edges internal to the community.\n",
    "\n",
    "edges_inside_belief = evaluation.edges_inside(G1,belief_coms)\n",
    "edges_inside_belief"
   ]
  },
  {
   "cell_type": "code",
   "execution_count": 544,
   "id": "659152fd",
   "metadata": {},
   "outputs": [
    {
     "data": {
      "text/plain": [
       "FitnessResult(min=4.100798403193613, max=4.948275862068965, score=4.578571497587359, std=0.24731177180534006)"
      ]
     },
     "execution_count": 544,
     "metadata": {},
     "output_type": "execute_result"
    }
   ],
   "source": [
    "# Number of edges per community node that point outside the cluster.\n",
    "expansion_belief = evaluation.expansion(G1,belief_coms)\n",
    "expansion_belief"
   ]
  },
  {
   "cell_type": "code",
   "execution_count": 545,
   "id": "e0667723",
   "metadata": {},
   "outputs": [
    {
     "data": {
      "text/plain": [
       "FitnessResult(min=0.015614303096253822, max=0.039969313387034903, score=0.027218697509993183, std=0.008399133266303696)"
      ]
     },
     "execution_count": 545,
     "metadata": {},
     "output_type": "execute_result"
    }
   ],
   "source": [
    "# The internal density of the community set.\n",
    "internal_edge_density_belief = evaluation.internal_edge_density(G1,belief_coms)\n",
    "internal_edge_density_belief"
   ]
  },
  {
   "cell_type": "code",
   "execution_count": 546,
   "id": "3ee6b4d0",
   "metadata": {},
   "outputs": [
    {
     "data": {
      "text/plain": [
       "FitnessResult(min=14, max=40, score=28.0, std=9.258200997725515)"
      ]
     },
     "execution_count": 546,
     "metadata": {},
     "output_type": "execute_result"
    }
   ],
   "source": [
    "# Maximum fraction of edges of a node of a community that point outside the community itself.\n",
    "\n",
    "max_odf_belief = evaluation.max_odf(G1,belief_coms)\n",
    "max_odf_belief"
   ]
  },
  {
   "cell_type": "code",
   "execution_count": 547,
   "id": "238a95f5",
   "metadata": {},
   "outputs": [
    {
     "data": {
      "text/plain": [
       "FitnessResult(min=4.100798403193613, max=4.948275862068965, score=4.578571497587359, std=0.24731177180534006)"
      ]
     },
     "execution_count": 547,
     "metadata": {},
     "output_type": "execute_result"
    }
   ],
   "source": [
    "# Average fraction of edges of a node of a community that point outside the community itself.\n",
    "\n",
    "avg_odf_belief = evaluation.avg_odf(G1,belief_coms)\n",
    "avg_odf_belief"
   ]
  },
  {
   "cell_type": "code",
   "execution_count": 548,
   "id": "dd220847",
   "metadata": {},
   "outputs": [
    {
     "data": {
      "text/plain": [
       "FitnessResult(min=None, max=None, score=940737.5472784049, std=None)"
      ]
     },
     "execution_count": 548,
     "metadata": {},
     "output_type": "execute_result"
    }
   ],
   "source": [
    "# Significance estimates how likely a partition of dense communities appear in a random graph.\n",
    "\n",
    "significance_belief = evaluation.significance(G1,belief_coms)\n",
    "significance_belief"
   ]
  },
  {
   "cell_type": "code",
   "execution_count": 549,
   "id": "f7385618",
   "metadata": {},
   "outputs": [
    {
     "data": {
      "text/plain": [
       "FitnessResult(min=None, max=None, score=207188.46736311028, std=None)"
      ]
     },
     "execution_count": 549,
     "metadata": {},
     "output_type": "execute_result"
    }
   ],
   "source": [
    "# Surprise is statistical approach proposes a quality metric assuming that edges between vertices emerge randomly according to a hyper-geometric distribution.\n",
    "# According to the Surprise metric, the higher the score of a partition, the less likely it is resulted from a random realization, the better the quality of the community structure.\n",
    "\n",
    "surprise_belief = evaluation.surprise(G1,belief_coms)\n",
    "surprise_belief"
   ]
  },
  {
   "cell_type": "markdown",
   "id": "9768f53c",
   "metadata": {},
   "source": [
    "# Community Evaluation \n"
   ]
  },
  {
   "cell_type": "code",
   "execution_count": 550,
   "id": "4e5db8e0",
   "metadata": {},
   "outputs": [],
   "source": [
    "#erdos_renyi_modularity"
   ]
  },
  {
   "cell_type": "code",
   "execution_count": 551,
   "id": "9265942f",
   "metadata": {},
   "outputs": [
    {
     "data": {
      "text/plain": [
       "FitnessResult(min=None, max=None, score=0.834830268884973, std=None)"
      ]
     },
     "execution_count": 551,
     "metadata": {},
     "output_type": "execute_result"
    }
   ],
   "source": [
    "coms_louvain_1 = evaluation.erdos_renyi_modularity(G1,coms_louvain)\n",
    "coms_louvain_1"
   ]
  },
  {
   "cell_type": "code",
   "execution_count": 552,
   "id": "daf63fd1",
   "metadata": {},
   "outputs": [
    {
     "data": {
      "text/plain": [
       "FitnessResult(min=None, max=None, score=0.7763462152242818, std=None)"
      ]
     },
     "execution_count": 552,
     "metadata": {},
     "output_type": "execute_result"
    }
   ],
   "source": [
    "CNM_coms_1 = evaluation.erdos_renyi_modularity(G1,CNM_coms)\n",
    "CNM_coms_1"
   ]
  },
  {
   "cell_type": "code",
   "execution_count": 553,
   "id": "6da8a34b",
   "metadata": {},
   "outputs": [
    {
     "data": {
      "text/plain": [
       "FitnessResult(min=None, max=None, score=0.8348106484634125, std=None)"
      ]
     },
     "execution_count": 553,
     "metadata": {},
     "output_type": "execute_result"
    }
   ],
   "source": [
    "leiden_coms_1 = evaluation.erdos_renyi_modularity(G1,leiden_coms)\n",
    "leiden_coms_1"
   ]
  },
  {
   "cell_type": "code",
   "execution_count": 554,
   "id": "f0c25b87",
   "metadata": {},
   "outputs": [
    {
     "data": {
      "text/plain": [
       "FitnessResult(min=None, max=None, score=0.3484606693386391, std=None)"
      ]
     },
     "execution_count": 554,
     "metadata": {},
     "output_type": "execute_result"
    }
   ],
   "source": [
    "eigenvector_Newman_com_1 = evaluation.erdos_renyi_modularity(G1,eigenvector_Newman_com)\n",
    "eigenvector_Newman_com_1"
   ]
  },
  {
   "cell_type": "code",
   "execution_count": 555,
   "id": "eb81fdc0",
   "metadata": {},
   "outputs": [
    {
     "data": {
      "text/plain": [
       "FitnessResult(min=None, max=None, score=0.7620640265599484, std=None)"
      ]
     },
     "execution_count": 555,
     "metadata": {},
     "output_type": "execute_result"
    }
   ],
   "source": [
    "mnmf_coms_1 = evaluation.erdos_renyi_modularity(G1,mnmf_coms)\n",
    "mnmf_coms_1"
   ]
  },
  {
   "cell_type": "code",
   "execution_count": 556,
   "id": "6425f4f2",
   "metadata": {},
   "outputs": [
    {
     "data": {
      "text/plain": [
       "FitnessResult(min=None, max=None, score=0.8348106484634125, std=None)"
      ]
     },
     "execution_count": 556,
     "metadata": {},
     "output_type": "execute_result"
    }
   ],
   "source": [
    "pycombo_coms_1 = evaluation.erdos_renyi_modularity(G1,pycombo_coms)\n",
    "pycombo_coms_1"
   ]
  },
  {
   "cell_type": "code",
   "execution_count": 557,
   "id": "b50dfb09",
   "metadata": {},
   "outputs": [
    {
     "data": {
      "text/plain": [
       "FitnessResult(min=None, max=None, score=0.7189839061742496, std=None)"
      ]
     },
     "execution_count": 557,
     "metadata": {},
     "output_type": "execute_result"
    }
   ],
   "source": [
    "belief_coms_1 = evaluation.erdos_renyi_modularity(G1,belief_coms)\n",
    "belief_coms_1"
   ]
  },
  {
   "cell_type": "code",
   "execution_count": 558,
   "id": "92089daf",
   "metadata": {},
   "outputs": [],
   "source": [
    "#modularity_density"
   ]
  },
  {
   "cell_type": "code",
   "execution_count": 559,
   "id": "b385d8fd",
   "metadata": {},
   "outputs": [
    {
     "data": {
      "text/plain": [
       "FitnessResult(min=None, max=None, score=1753.2299443944792, std=None)"
      ]
     },
     "execution_count": 559,
     "metadata": {},
     "output_type": "execute_result"
    }
   ],
   "source": [
    "coms_louvain_2 = evaluation.modularity_density(G1,coms_louvain)\n",
    "coms_louvain_2"
   ]
  },
  {
   "cell_type": "code",
   "execution_count": 560,
   "id": "050ae4f4",
   "metadata": {},
   "outputs": [
    {
     "data": {
      "text/plain": [
       "FitnessResult(min=None, max=None, score=420.3227435705885, std=None)"
      ]
     },
     "execution_count": 560,
     "metadata": {},
     "output_type": "execute_result"
    }
   ],
   "source": [
    "CNM_coms_2 = evaluation.modularity_density(G1,CNM_coms)\n",
    "CNM_coms_2"
   ]
  },
  {
   "cell_type": "code",
   "execution_count": 561,
   "id": "45152384",
   "metadata": {},
   "outputs": [
    {
     "data": {
      "text/plain": [
       "FitnessResult(min=None, max=None, score=1733.6439270970973, std=None)"
      ]
     },
     "execution_count": 561,
     "metadata": {},
     "output_type": "execute_result"
    }
   ],
   "source": [
    "leiden_coms_2 = evaluation.modularity_density(G1,leiden_coms)\n",
    "leiden_coms_2"
   ]
  },
  {
   "cell_type": "code",
   "execution_count": 562,
   "id": "ad21aca1",
   "metadata": {},
   "outputs": [
    {
     "data": {
      "text/plain": [
       "FitnessResult(min=None, max=None, score=-8.918392435824277, std=None)"
      ]
     },
     "execution_count": 562,
     "metadata": {},
     "output_type": "execute_result"
    }
   ],
   "source": [
    "eigenvector_Newman_com_2 = evaluation.modularity_density(G1,eigenvector_Newman_com)\n",
    "eigenvector_Newman_com_2"
   ]
  },
  {
   "cell_type": "code",
   "execution_count": 563,
   "id": "8418b2c1",
   "metadata": {},
   "outputs": [
    {
     "data": {
      "text/plain": [
       "FitnessResult(min=None, max=None, score=263.7385159165594, std=None)"
      ]
     },
     "execution_count": 563,
     "metadata": {},
     "output_type": "execute_result"
    }
   ],
   "source": [
    "mnmf_coms_2 = evaluation.modularity_density(G1,mnmf_coms)\n",
    "mnmf_coms_2"
   ]
  },
  {
   "cell_type": "code",
   "execution_count": 564,
   "id": "11643cb8",
   "metadata": {},
   "outputs": [
    {
     "data": {
      "text/plain": [
       "FitnessResult(min=None, max=None, score=1733.643927097097, std=None)"
      ]
     },
     "execution_count": 564,
     "metadata": {},
     "output_type": "execute_result"
    }
   ],
   "source": [
    "pycombo_coms_2 = evaluation.modularity_density(G1,pycombo_coms)\n",
    "pycombo_coms_2"
   ]
  },
  {
   "cell_type": "code",
   "execution_count": 565,
   "id": "90647484",
   "metadata": {},
   "outputs": [
    {
     "data": {
      "text/plain": [
       "FitnessResult(min=None, max=None, score=190.12917530091065, std=None)"
      ]
     },
     "execution_count": 565,
     "metadata": {},
     "output_type": "execute_result"
    }
   ],
   "source": [
    "belief_coms_2 = evaluation.modularity_density(G1,belief_coms)\n",
    "belief_coms_2"
   ]
  },
  {
   "cell_type": "code",
   "execution_count": 566,
   "id": "48952e9b",
   "metadata": {},
   "outputs": [],
   "source": [
    "# modularity_overlap"
   ]
  },
  {
   "cell_type": "code",
   "execution_count": 567,
   "id": "c1f1f930",
   "metadata": {},
   "outputs": [
    {
     "data": {
      "text/plain": [
       "FitnessResult(min=None, max=None, score=0.21318110380854885, std=None)"
      ]
     },
     "execution_count": 567,
     "metadata": {},
     "output_type": "execute_result"
    }
   ],
   "source": [
    "coms_louvain_3 = evaluation.modularity_overlap(G1,coms_louvain)\n",
    "coms_louvain_3"
   ]
  },
  {
   "cell_type": "code",
   "execution_count": 568,
   "id": "7665d223",
   "metadata": {},
   "outputs": [
    {
     "data": {
      "text/plain": [
       "FitnessResult(min=None, max=None, score=0.0660967556762634, std=None)"
      ]
     },
     "execution_count": 568,
     "metadata": {},
     "output_type": "execute_result"
    }
   ],
   "source": [
    "CNM_coms_3 = evaluation.modularity_overlap(G1,CNM_coms)\n",
    "CNM_coms_3"
   ]
  },
  {
   "cell_type": "code",
   "execution_count": 569,
   "id": "e3f54e70",
   "metadata": {},
   "outputs": [
    {
     "data": {
      "text/plain": [
       "FitnessResult(min=None, max=None, score=0.20964863295520422, std=None)"
      ]
     },
     "execution_count": 569,
     "metadata": {},
     "output_type": "execute_result"
    }
   ],
   "source": [
    "leiden_coms_3 = evaluation.modularity_overlap(G1,leiden_coms)\n",
    "leiden_coms_3"
   ]
  },
  {
   "cell_type": "code",
   "execution_count": 570,
   "id": "172aa417",
   "metadata": {},
   "outputs": [
    {
     "data": {
      "text/plain": [
       "FitnessResult(min=None, max=None, score=-0.004428381555889, std=None)"
      ]
     },
     "execution_count": 570,
     "metadata": {},
     "output_type": "execute_result"
    }
   ],
   "source": [
    "eigenvector_Newman_com_3 = evaluation.modularity_overlap(G1,eigenvector_Newman_com)\n",
    "eigenvector_Newman_com_3"
   ]
  },
  {
   "cell_type": "code",
   "execution_count": 571,
   "id": "e4b904bb",
   "metadata": {},
   "outputs": [
    {
     "data": {
      "text/plain": [
       "FitnessResult(min=None, max=None, score=0.02417575869770023, std=None)"
      ]
     },
     "execution_count": 571,
     "metadata": {},
     "output_type": "execute_result"
    }
   ],
   "source": [
    "mnmf_coms_3 = evaluation.modularity_overlap(G1,mnmf_coms)\n",
    "mnmf_coms_3"
   ]
  },
  {
   "cell_type": "code",
   "execution_count": 572,
   "id": "6ee8497b",
   "metadata": {},
   "outputs": [
    {
     "data": {
      "text/plain": [
       "FitnessResult(min=None, max=None, score=0.20964863295520422, std=None)"
      ]
     },
     "execution_count": 572,
     "metadata": {},
     "output_type": "execute_result"
    }
   ],
   "source": [
    "pycombo_coms_3 = evaluation.modularity_overlap(G1,pycombo_coms)\n",
    "pycombo_coms_3"
   ]
  },
  {
   "cell_type": "code",
   "execution_count": 573,
   "id": "bda9351a",
   "metadata": {},
   "outputs": [
    {
     "data": {
      "text/plain": [
       "FitnessResult(min=None, max=None, score=0.019105857927872363, std=None)"
      ]
     },
     "execution_count": 573,
     "metadata": {},
     "output_type": "execute_result"
    }
   ],
   "source": [
    "belief_coms_3 = evaluation.modularity_overlap(G1,belief_coms)\n",
    "belief_coms_3"
   ]
  },
  {
   "cell_type": "code",
   "execution_count": 574,
   "id": "24e89560",
   "metadata": {},
   "outputs": [],
   "source": [
    "# z_modularity"
   ]
  },
  {
   "cell_type": "code",
   "execution_count": 575,
   "id": "c68ae342",
   "metadata": {},
   "outputs": [
    {
     "data": {
      "text/plain": [
       "FitnessResult(min=None, max=None, score=5.4899254040258265, std=None)"
      ]
     },
     "execution_count": 575,
     "metadata": {},
     "output_type": "execute_result"
    }
   ],
   "source": [
    "coms_louvain_4 = evaluation.z_modularity(G1,coms_louvain)\n",
    "coms_louvain_4"
   ]
  },
  {
   "cell_type": "code",
   "execution_count": 576,
   "id": "3958be1e",
   "metadata": {},
   "outputs": [
    {
     "data": {
      "text/plain": [
       "FitnessResult(min=None, max=None, score=3.0772420388575203, std=None)"
      ]
     },
     "execution_count": 576,
     "metadata": {},
     "output_type": "execute_result"
    }
   ],
   "source": [
    "CNM_coms_4 = evaluation.z_modularity(G1,CNM_coms)\n",
    "CNM_coms_4"
   ]
  },
  {
   "cell_type": "code",
   "execution_count": 577,
   "id": "959c9524",
   "metadata": {},
   "outputs": [
    {
     "data": {
      "text/plain": [
       "FitnessResult(min=None, max=None, score=5.485247127296476, std=None)"
      ]
     },
     "execution_count": 577,
     "metadata": {},
     "output_type": "execute_result"
    }
   ],
   "source": [
    "leiden_coms_4 = evaluation.z_modularity(G1,leiden_coms)\n",
    "leiden_coms_4"
   ]
  },
  {
   "cell_type": "code",
   "execution_count": 578,
   "id": "c8eb96a2",
   "metadata": {},
   "outputs": [
    {
     "data": {
      "text/plain": [
       "FitnessResult(min=None, max=None, score=0.812151739426256, std=None)"
      ]
     },
     "execution_count": 578,
     "metadata": {},
     "output_type": "execute_result"
    }
   ],
   "source": [
    "eigenvector_Newman_com_4 = evaluation.z_modularity(G1,eigenvector_Newman_com)\n",
    "eigenvector_Newman_com_4"
   ]
  },
  {
   "cell_type": "code",
   "execution_count": 579,
   "id": "71e8f415",
   "metadata": {},
   "outputs": [
    {
     "data": {
      "text/plain": [
       "FitnessResult(min=None, max=None, score=2.5165096935026625, std=None)"
      ]
     },
     "execution_count": 579,
     "metadata": {},
     "output_type": "execute_result"
    }
   ],
   "source": [
    "mnmf_coms_4 = evaluation.z_modularity(G1,mnmf_coms)\n",
    "mnmf_coms_4"
   ]
  },
  {
   "cell_type": "code",
   "execution_count": 580,
   "id": "65a6f843",
   "metadata": {},
   "outputs": [
    {
     "data": {
      "text/plain": [
       "FitnessResult(min=None, max=None, score=5.485247127296476, std=None)"
      ]
     },
     "execution_count": 580,
     "metadata": {},
     "output_type": "execute_result"
    }
   ],
   "source": [
    "pycombo_coms_4 = evaluation.z_modularity(G1,pycombo_coms)\n",
    "pycombo_coms_4"
   ]
  },
  {
   "cell_type": "code",
   "execution_count": 581,
   "id": "9b42ff2c",
   "metadata": {},
   "outputs": [
    {
     "data": {
      "text/plain": [
       "FitnessResult(min=None, max=None, score=1.9797995544039786, std=None)"
      ]
     },
     "execution_count": 581,
     "metadata": {},
     "output_type": "execute_result"
    }
   ],
   "source": [
    "belief_coms_4 = evaluation.z_modularity(G1,belief_coms)\n",
    "belief_coms_4"
   ]
  },
  {
   "cell_type": "code",
   "execution_count": 582,
   "id": "3195efd1",
   "metadata": {},
   "outputs": [],
   "source": [
    "# newman_girvan_modularity"
   ]
  },
  {
   "cell_type": "code",
   "execution_count": 583,
   "id": "1da5ba65",
   "metadata": {},
   "outputs": [
    {
     "data": {
      "text/plain": [
       "FitnessResult(min=None, max=None, score=0.832168399727047, std=None)"
      ]
     },
     "execution_count": 583,
     "metadata": {},
     "output_type": "execute_result"
    }
   ],
   "source": [
    "coms_louvain_5 = evaluation.newman_girvan_modularity(G1,coms_louvain)\n",
    "coms_louvain_5"
   ]
  },
  {
   "cell_type": "code",
   "execution_count": 584,
   "id": "62fa7239",
   "metadata": {},
   "outputs": [
    {
     "data": {
      "text/plain": [
       "FitnessResult(min=None, max=None, score=0.7763967164549156, std=None)"
      ]
     },
     "execution_count": 584,
     "metadata": {},
     "output_type": "execute_result"
    }
   ],
   "source": [
    "CNM_coms_5 = evaluation.newman_girvan_modularity(G1,CNM_coms)\n",
    "CNM_coms_5"
   ]
  },
  {
   "cell_type": "code",
   "execution_count": 585,
   "id": "c4aa30a0",
   "metadata": {},
   "outputs": [
    {
     "data": {
      "text/plain": [
       "FitnessResult(min=None, max=None, score=0.832170013748746, std=None)"
      ]
     },
     "execution_count": 585,
     "metadata": {},
     "output_type": "execute_result"
    }
   ],
   "source": [
    "leiden_coms_5 = evaluation.newman_girvan_modularity(G1,leiden_coms)\n",
    "leiden_coms_5"
   ]
  },
  {
   "cell_type": "code",
   "execution_count": 586,
   "id": "0cd340d6",
   "metadata": {},
   "outputs": [
    {
     "data": {
      "text/plain": [
       "FitnessResult(min=None, max=None, score=0.3489459458213129, std=None)"
      ]
     },
     "execution_count": 586,
     "metadata": {},
     "output_type": "execute_result"
    }
   ],
   "source": [
    "eigenvector_Newman_com_5 = evaluation.newman_girvan_modularity(G1,eigenvector_Newman_com)\n",
    "eigenvector_Newman_com_5"
   ]
  },
  {
   "cell_type": "code",
   "execution_count": 587,
   "id": "62e0dc90",
   "metadata": {},
   "outputs": [
    {
     "data": {
      "text/plain": [
       "FitnessResult(min=None, max=None, score=0.7615449848894845, std=None)"
      ]
     },
     "execution_count": 587,
     "metadata": {},
     "output_type": "execute_result"
    }
   ],
   "source": [
    "mnmf_coms_5 = evaluation.newman_girvan_modularity(G1,mnmf_coms)\n",
    "mnmf_coms_5"
   ]
  },
  {
   "cell_type": "code",
   "execution_count": 588,
   "id": "d18b02bf",
   "metadata": {},
   "outputs": [
    {
     "data": {
      "text/plain": [
       "FitnessResult(min=None, max=None, score=0.832170013748746, std=None)"
      ]
     },
     "execution_count": 588,
     "metadata": {},
     "output_type": "execute_result"
    }
   ],
   "source": [
    "pycombo_coms_5 = evaluation.newman_girvan_modularity(G1,pycombo_coms)\n",
    "pycombo_coms_5"
   ]
  },
  {
   "cell_type": "code",
   "execution_count": 589,
   "id": "f8b947b4",
   "metadata": {},
   "outputs": [
    {
     "data": {
      "text/plain": [
       "FitnessResult(min=None, max=None, score=0.7193410038171048, std=None)"
      ]
     },
     "execution_count": 589,
     "metadata": {},
     "output_type": "execute_result"
    }
   ],
   "source": [
    "belief_coms_5 = evaluation.newman_girvan_modularity(G1,belief_coms)\n",
    "belief_coms_5"
   ]
  },
  {
   "cell_type": "code",
   "execution_count": 590,
   "id": "a2049852",
   "metadata": {},
   "outputs": [],
   "source": [
    "\"\"\"Save to a file\"\"\"\n",
    "f = open(\"output.csv\", \"a\")\n",
    "f.write(\"\\n\")\n",
    "columns = \"Alghorithm,Time,size,conductance,edges_inside,expansion,internal_edge_density,max_odf,avg_odf,significance,surprise,erdos renyi modularity,modularity density,modularity overlap,z modularity,newman girvan modularity\\n\"\n",
    "f.write(columns)\n",
    "\n",
    "data = f\"Louvain,{louvain},{sz_louvain.score},{conductance_louvain.score},{edges_inside_louvain.score},{expansion_louvain.score},{internal_edge_density_louvain.score},{max_odf_louvain.score},{avg_odf_louvain.score},{significance_louvain.score},{surprise_louvain.score},{coms_louvain_1.score},{coms_louvain_2.score},{coms_louvain_3.score},{coms_louvain_4.score},{coms_louvain_5.score}\\n\"\n",
    "f.write(data)\n",
    "\n",
    "data = f\"CNM,{cnm},{sz_CNM.score},{conductance_CNM.score},{edges_inside_CNM.score},{expansion_CNM.score},{internal_edge_density_CNM.score},{max_odf_CNM.score},{avg_odf_CNM.score},{significance_CNM.score},{surprise_CNM.score},{CNM_coms_1.score},{CNM_coms_2.score},{CNM_coms_3.score},{CNM_coms_4.score},{CNM_coms_5.score}\\n\"\n",
    "f.write(data)\n",
    "\n",
    "data = f\"leiden,{leiden},{sz_leiden.score},{conductance_leiden.score},{edges_inside_leiden.score},{expansion_leiden.score},{internal_edge_density_leiden.score},{max_odf_leiden.score},{avg_odf_leiden.score},{significance_leiden.score},{surprise_leiden.score},{leiden_coms_1.score},{leiden_coms_2.score},{leiden_coms_3.score},{leiden_coms_4.score},{leiden_coms_5.score}\\n\"\n",
    "f.write(data)\n",
    "\n",
    "data = f\"Newman,{newman},{sz_eigenvector_Newman.score},{conductance_eigenvector_Newman.score},{edges_inside_eigenvector_Newman.score},{expansion_eigenvector_Newman.score},{internal_edge_density_eigenvector_Newman.score},{max_odf_eigenvector_Newman.score},{avg_odf_eigenvector_Newman.score},{significance_eigenvector_Newman.score},{surprise_eigenvector_Newman.score},{eigenvector_Newman_com_1.score},{eigenvector_Newman_com_2.score},{eigenvector_Newman_com_3.score},{eigenvector_Newman_com_4.score},{eigenvector_Newman_com_5.score}\\n\"\n",
    "f.write(data)\n",
    "\n",
    "data = f\"mnmf,{mnmf},{sz_mnmf.score},{conductance_mnmf.score},{edges_inside_mnmf.score},{expansion_mnmf.score},{internal_edge_density_mnmf.score},{max_odf_mnmf.score},{avg_odf_mnmf.score},{significance_mnmf.score},{surprise_mnmf.score},{mnmf_coms_1.score},{mnmf_coms_2.score},{mnmf_coms_3.score},{mnmf_coms_4.score},{mnmf_coms_5.score}\\n\"\n",
    "f.write(data)\n",
    "\n",
    "data = f\"pycombo,{pycombo},{sz_pycombo.score},{conductance_pycombo.score},{edges_inside_pycombo.score},{expansion_pycombo.score},{internal_edge_density_pycombo.score},{max_odf_pycombo.score},{avg_odf_pycombo.score},{significance_pycombo.score},{surprise_pycombo.score},{pycombo_coms_1.score},{pycombo_coms_2.score},{pycombo_coms_3.score},{pycombo_coms_4.score},{pycombo_coms_5.score}\\n\"\n",
    "f.write(data)\n",
    "\n",
    "data = f\"belief,{belief},{sz_belief.score},{conductance_belief.score},{edges_inside_belief.score},{expansion_belief.score},{internal_edge_density_belief.score},{max_odf_belief.score},{avg_odf_belief.score},{significance_belief.score},{surprise_belief.score},{belief_coms_1.score},{belief_coms_2.score},{belief_coms_3.score},{belief_coms_4.score},{belief_coms_5.score}\\n\"\n",
    "f.write(data)\n",
    "\n",
    "f.close()\n"
   ]
  }
 ],
 "metadata": {
  "kernelspec": {
   "display_name": "Python 3 (ipykernel)",
   "language": "python",
   "name": "python3"
  },
  "language_info": {
   "codemirror_mode": {
    "name": "ipython",
    "version": 3
   },
   "file_extension": ".py",
   "mimetype": "text/x-python",
   "name": "python",
   "nbconvert_exporter": "python",
   "pygments_lexer": "ipython3",
   "version": "3.8.8"
  }
 },
 "nbformat": 4,
 "nbformat_minor": 5
}
